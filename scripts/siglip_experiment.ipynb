{
 "cells": [
  {
   "cell_type": "code",
   "execution_count": 13,
   "metadata": {},
   "outputs": [],
   "source": [
    "import dataset"
   ]
  },
  {
   "cell_type": "code",
   "execution_count": 15,
   "metadata": {},
   "outputs": [],
   "source": [
    "data_set = dataset.load_data_set('../res/cache/datasets/dataset_991')"
   ]
  },
  {
   "cell_type": "code",
   "execution_count": 16,
   "metadata": {},
   "outputs": [],
   "source": [
    "for dp in data_set:\n",
    "    dp.add_language()"
   ]
  },
  {
   "cell_type": "code",
   "execution_count": null,
   "metadata": {},
   "outputs": [],
   "source": [
    "import translator\n",
    "\n",
    "from importlib import reload\n",
    "reload(translator)"
   ]
  },
  {
   "cell_type": "code",
   "execution_count": 31,
   "metadata": {},
   "outputs": [],
   "source": [
    "data_set.error_uuids.add(\"44de430c-119b-11e8-a3ad-00155d012102\")\n",
    "\n",
    "# translator.translate_dataset(data_set)"
   ]
  },
  {
   "cell_type": "code",
   "execution_count": 17,
   "metadata": {},
   "outputs": [
    {
     "data": {
      "text/plain": [
       "['122',\n",
       " 'sprostředkuje jízdné kolo',\n",
       " 'za pomoci ozubeného sou-',\n",
       " 'kolí. Aby výsevná osa',\n",
       " 'otáčeti se mohla volněji',\n",
       " 'nebo rychleji, jak toho',\n",
       " 'jednotlivé rostliny dle',\n",
       " 'tvaru a velikosti svých',\n",
       " 'semen vyžadují, lze ko-',\n",
       " 'lečka v tomto soukolí vy-',\n",
       " 'měňovati. Aby tyto stroje',\n",
       " 'semeny, opatřují se jich',\n",
       " 'byly schopny síti i rostliny s drobnými',\n",
       " 'po převrácení výsevného',\n",
       " 'lžičky na hřbetě malými dutinkami, které',\n",
       " 'ústrojí vysévání semen obstarávají. U stroje „Unikum“ firmy Fr. Me-',\n",
       " 'lichar v Brandýse n. L. jsou lžičky posouvatelné (obr. 75.). Účinný',\n",
       " 'prostor lžiček nechá se tedy dle potřeby zvětšovati a zmenšovati,',\n",
       " 'takže možno jedním výsevným ústrojím všechna semena síti. Ko-',\n",
       " 'leček v soukolí není potřeba vyměňovati. Skříň jest nepohyblivá.',\n",
       " 'e) U důlkových strojů obstarávají vysévání osiva t. zv.',\n",
       " 'naběrací kolečka, mající na svém obvodu důlky. Pro setí větších',\n",
       " 'semen vezmou se kolečka s důlky většími, pro setí menších semen',\n",
       " 'kolečka s důlky menšími (obr. 76.).',\n",
       " 'f) Stroje s vyhrnovacími čili vysunovacími',\n",
       " 'válečky jsou původu amerického, hojně se však u nás rozšířily.',\n",
       " 'U soustavy „Hoosier“ těchto strojů jsou na spodku skříně',\n",
       " 'umístěny výsevné přístro-',\n",
       " 'je, jichž zařízení objasňu-',\n",
       " 'je obr. 77. Výsevnými pří-',\n",
       " 'stroji prochází výsevná',\n",
       " 'osa, na níž střídavě sedí vá-',\n",
       " 'lečky žlábkované a hladké.',\n",
       " 'První sedí pevně, druhé',\n",
       " 'volně. Z přístrojů výsev-',\n",
       " 'ných do otvorů výsevných',\n",
       " 'čili výtokových vyhrnují',\n",
       " 'osivo ovšem jen válečky',\n",
       " 'žlábkované. Různým po-',\n",
       " 'stavením výsevné osy do-',\n",
       " 'sáhneme pak toho, že',\n",
       " 'v přístrojích výsevných',\n",
       " 'jsou jen válečky žlábko-',\n",
       " 'vané nebo jen válečky',\n",
       " 'hladké anebo z části váleč-',\n",
       " 'ky žlábkované a z části',\n",
       " 'hladké. V prvním případě',\n",
       " 'jest výsev největší, v dru-',\n",
       " 'Obr. 74. Plnosevný secí stroj soustavy lžičkové.',\n",
       " 'Obr. 75. Posouvatelné lžičky Melicharova universálního',\n",
       " 'secího stroje „Unikum“.']"
      ]
     },
     "execution_count": 17,
     "metadata": {},
     "output_type": "execute_result"
    }
   ],
   "source": [
    "[line.text for line  in data_set.data_points[522].text_lines]"
   ]
  },
  {
   "cell_type": "code",
   "execution_count": null,
   "metadata": {},
   "outputs": [],
   "source": [
    "data_set.save()"
   ]
  },
  {
   "cell_type": "code",
   "execution_count": 19,
   "metadata": {},
   "outputs": [
    {
     "name": "stderr",
     "output_type": "stream",
     "text": [
      "2024-05-10 21:41:58.232479: I tensorflow/core/platform/cpu_feature_guard.cc:210] This TensorFlow binary is optimized to use available CPU instructions in performance-critical operations.\n",
      "To enable the following instructions: AVX2 FMA, in other operations, rebuild TensorFlow with the appropriate compiler flags.\n",
      "2024-05-10 21:41:59.377599: W tensorflow/compiler/tf2tensorrt/utils/py_utils.cc:38] TF-TRT Warning: Could not find TensorRT\n"
     ]
    }
   ],
   "source": [
    "import siglip"
   ]
  },
  {
   "cell_type": "code",
   "execution_count": 20,
   "metadata": {},
   "outputs": [
    {
     "name": "stderr",
     "output_type": "stream",
     "text": [
      "100%|██████████| 991/991 [00:37<00:00, 26.74it/s]\n"
     ]
    }
   ],
   "source": [
    "from tqdm import tqdm\n",
    "siglip_dist = [ siglip.compute_clip_regions_dst(dp) for dp in tqdm(data_set)]"
   ]
  },
  {
   "cell_type": "code",
   "execution_count": 21,
   "metadata": {},
   "outputs": [],
   "source": [
    "import evaluate"
   ]
  },
  {
   "cell_type": "code",
   "execution_count": 22,
   "metadata": {},
   "outputs": [],
   "source": [
    "results = evaluate.eval_region_data_set(data_set, siglip_dist, threshold=0.5)"
   ]
  },
  {
   "cell_type": "code",
   "execution_count": 23,
   "metadata": {},
   "outputs": [
    {
     "data": {
      "text/plain": [
       "(array([ 937, 4878, 2461,  100]),\n",
       " (0.16113499570077386, 0.9035679845708775, 0.2734967892586106))"
      ]
     },
     "execution_count": 23,
     "metadata": {},
     "output_type": "execute_result"
    }
   ],
   "source": [
    "results, evaluate.calculate_metrics(*results)"
   ]
  },
  {
   "cell_type": "code",
   "execution_count": 35,
   "metadata": {},
   "outputs": [
    {
     "data": {
      "text/plain": [
       "<module 'siglip' from '/home/anakin/skola/leto/KNN/scripts/siglip.py'>"
      ]
     },
     "execution_count": 35,
     "metadata": {},
     "output_type": "execute_result"
    }
   ],
   "source": [
    "from importlib import reload\n",
    "reload(siglip)"
   ]
  },
  {
   "cell_type": "code",
   "execution_count": 36,
   "metadata": {},
   "outputs": [
    {
     "data": {
      "text/plain": [
       "<module 'evaluate' from '/home/anakin/skola/leto/KNN/scripts/evaluate.py'>"
      ]
     },
     "execution_count": 36,
     "metadata": {},
     "output_type": "execute_result"
    }
   ],
   "source": [
    "reload(evaluate)"
   ]
  },
  {
   "cell_type": "code",
   "execution_count": 37,
   "metadata": {},
   "outputs": [
    {
     "name": "stderr",
     "output_type": "stream",
     "text": [
      "100%|█████████▉| 990/991 [00:46<00:00, 21.48it/s]\n"
     ]
    }
   ],
   "source": [
    "siglip_dist2 = [ siglip.compute_clip_lines_dst(dp) for dp in tqdm(data_set) ]"
   ]
  },
  {
   "cell_type": "code",
   "execution_count": 46,
   "metadata": {},
   "outputs": [],
   "source": [
    "results2 = evaluate.eval_threshold_data_set(data_set, siglip_dist2, threshold=0)"
   ]
  },
  {
   "cell_type": "code",
   "execution_count": 47,
   "metadata": {},
   "outputs": [
    {
     "data": {
      "text/plain": [
       "(array([  135,   855, 77005,  2025]),\n",
       " (0.13636363636363635, 0.0625, 0.08571428571428572))"
      ]
     },
     "execution_count": 47,
     "metadata": {},
     "output_type": "execute_result"
    }
   ],
   "source": [
    "results2, evaluate.calculate_metrics(*results2)"
   ]
  },
  {
   "cell_type": "code",
   "execution_count": 50,
   "metadata": {},
   "outputs": [
    {
     "name": "stderr",
     "output_type": "stream",
     "text": [
      "100%|█████████▉| 990/991 [00:46<00:00, 21.13it/s]\n"
     ]
    }
   ],
   "source": [
    "siglip_dist3 = [ siglip.compute_clip_sentences_dst(dp) for dp in tqdm(data_set) ]"
   ]
  },
  {
   "cell_type": "code",
   "execution_count": 52,
   "metadata": {},
   "outputs": [
    {
     "ename": "AttributeError",
     "evalue": "'list' object has no attribute 'items'",
     "output_type": "error",
     "traceback": [
      "\u001b[0;31m---------------------------------------------------------------------------\u001b[0m",
      "\u001b[0;31mAttributeError\u001b[0m                            Traceback (most recent call last)",
      "Cell \u001b[0;32mIn[52], line 1\u001b[0m\n\u001b[0;32m----> 1\u001b[0m results3 \u001b[38;5;241m=\u001b[39m \u001b[43mevaluate\u001b[49m\u001b[38;5;241;43m.\u001b[39;49m\u001b[43meval_sentences_threshold\u001b[49m\u001b[43m(\u001b[49m\u001b[43mdata_set\u001b[49m\u001b[43m,\u001b[49m\u001b[43m \u001b[49m\u001b[43msiglip_dist3\u001b[49m\u001b[43m)\u001b[49m\n",
      "File \u001b[0;32m~/skola/leto/KNN/scripts/evaluate.py:163\u001b[0m, in \u001b[0;36meval_sentences_threshold\u001b[0;34m(data_point, result_dict, threshold)\u001b[0m\n\u001b[1;32m    159\u001b[0m \u001b[38;5;28;01mdef\u001b[39;00m \u001b[38;5;21meval_sentences_threshold\u001b[39m(\n\u001b[1;32m    160\u001b[0m         data_point: dataset\u001b[38;5;241m.\u001b[39mDataPoint,\n\u001b[1;32m    161\u001b[0m         result_dict: \u001b[38;5;28mdict\u001b[39m[ImageAnnotation, \u001b[38;5;28mlist\u001b[39m[\u001b[38;5;28mtuple\u001b[39m[dataset\u001b[38;5;241m.\u001b[39mSentence, \u001b[38;5;28mfloat\u001b[39m]]],\n\u001b[1;32m    162\u001b[0m         threshold: \u001b[38;5;28mfloat\u001b[39m \u001b[38;5;241m=\u001b[39m \u001b[38;5;241m0.8\u001b[39m) \u001b[38;5;241m-\u001b[39m\u001b[38;5;241m>\u001b[39m np\u001b[38;5;241m.\u001b[39marray:\n\u001b[0;32m--> 163\u001b[0m      \u001b[38;5;28;01mfor\u001b[39;00m img_ann, results \u001b[38;5;129;01min\u001b[39;00m \u001b[43mresult_dict\u001b[49m\u001b[38;5;241;43m.\u001b[39;49m\u001b[43mitems\u001b[49m():\n\u001b[1;32m    164\u001b[0m         res_sum \u001b[38;5;241m=\u001b[39m \u001b[38;5;241m0\u001b[39m\n\u001b[1;32m    165\u001b[0m         \u001b[38;5;66;03m# calculate index of the positive samples\u001b[39;00m\n",
      "\u001b[0;31mAttributeError\u001b[0m: 'list' object has no attribute 'items'"
     ]
    }
   ],
   "source": [
    "results3 = evaluate.eval_sentences_threshold(data_set, siglip_dist3)"
   ]
  },
  {
   "cell_type": "code",
   "execution_count": null,
   "metadata": {},
   "outputs": [],
   "source": [
    "results3, evaluate.calculate_metrics(*results3)"
   ]
  },
  {
   "cell_type": "code",
   "execution_count": 49,
   "metadata": {},
   "outputs": [],
   "source": [
    "for dp in data_set:\n",
    "    dp.create_map_sentences()"
   ]
  },
  {
   "cell_type": "code",
   "execution_count": 51,
   "metadata": {},
   "outputs": [
    {
     "name": "stderr",
     "output_type": "stream",
     "text": [
      "100%|█████████▉| 990/991 [00:46<00:00, 21.47it/s]\n"
     ]
    }
   ],
   "source": [
    "siglip_dist3 = [ siglip.compute_clip_sentences_dst(dp) for dp in tqdm(data_set) ]"
   ]
  },
  {
   "cell_type": "code",
   "execution_count": 53,
   "metadata": {},
   "outputs": [],
   "source": [
    "results3 = evaluate.eval_sentences_data_set(data_set, siglip_dist3)"
   ]
  },
  {
   "cell_type": "code",
   "execution_count": 55,
   "metadata": {},
   "outputs": [
    {
     "data": {
      "text/plain": [
       "(array([ 1999, 28862,  7229,   464]),\n",
       " (0.06477431061858009, 0.8116118554608202, 0.11997359260592967))"
      ]
     },
     "execution_count": 55,
     "metadata": {},
     "output_type": "execute_result"
    }
   ],
   "source": [
    "results3, evaluate.calculate_metrics(*results3)"
   ]
  }
 ],
 "metadata": {
  "kernelspec": {
   "display_name": "Python 3",
   "language": "python",
   "name": "python3"
  },
  "language_info": {
   "codemirror_mode": {
    "name": "ipython",
    "version": 3
   },
   "file_extension": ".py",
   "mimetype": "text/x-python",
   "name": "python",
   "nbconvert_exporter": "python",
   "pygments_lexer": "ipython3",
   "version": "3.11.8"
  }
 },
 "nbformat": 4,
 "nbformat_minor": 2
}
