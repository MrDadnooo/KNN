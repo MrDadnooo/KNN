{
 "cells": [
  {
   "cell_type": "code",
   "execution_count": null,
   "id": "initial_id",
   "metadata": {
    "ExecuteTime": {
     "end_time": "2024-05-08T16:53:52.035869100Z",
     "start_time": "2024-05-08T16:53:26.361761500Z"
    },
    "collapsed": true
   },
   "outputs": [],
   "source": [
    "import dataset, model, visualise, evaluate"
   ]
  },
  {
   "cell_type": "code",
   "execution_count": null,
   "id": "f0678be15602f0f5",
   "metadata": {
    "ExecuteTime": {
     "end_time": "2024-05-08T16:54:03.301630700Z",
     "start_time": "2024-05-08T16:54:01.202096300Z"
    },
    "collapsed": false
   },
   "outputs": [],
   "source": [
    "data_set = dataset.load_data_set('../res/cache/datasets/dataset_522') "
   ]
  },
  {
   "cell_type": "code",
   "execution_count": null,
   "id": "aeec77ac25cafa68",
   "metadata": {
    "ExecuteTime": {
     "end_time": "2024-05-08T16:55:12.695732600Z",
     "start_time": "2024-05-08T16:54:15.496507900Z"
    },
    "collapsed": false
   },
   "outputs": [],
   "source": [
    "from tqdm import tqdm\n",
    "clip_dists = [ model.compute_clip_regions_dst(dp) for dp in tqdm(data_set)] "
   ]
  },
  {
   "cell_type": "code",
   "execution_count": null,
   "id": "1e58f389d2d93668",
   "metadata": {
    "ExecuteTime": {
     "end_time": "2024-05-08T17:00:48.184717Z",
     "start_time": "2024-05-08T17:00:48.007525800Z"
    },
    "collapsed": false
   },
   "outputs": [],
   "source": [
    "adjusted_clip_dists = [evaluate.adjust_region_score(clip_res, len_max=5, len_penalty=0.0000001, dist_far_threshold=0.8, dist_far_penalty=0.0001, dist_near_threshold=1000) for clip_res in clip_dists]\n"
   ]
  },
  {
   "cell_type": "code",
   "execution_count": null,
   "id": "f78c83c8db4d5c5c",
   "metadata": {
    "ExecuteTime": {
     "end_time": "2024-05-08T16:59:08.526493400Z",
     "start_time": "2024-05-08T16:59:08.446646800Z"
    },
    "collapsed": false
   },
   "outputs": [],
   "source": [
    "clip_dists"
   ]
  },
  {
   "cell_type": "code",
   "execution_count": null,
   "id": "5de5976b7faf08b6",
   "metadata": {
    "ExecuteTime": {
     "end_time": "2024-05-08T17:02:57.535806100Z",
     "start_time": "2024-05-08T17:02:57.430385800Z"
    },
    "collapsed": false
   },
   "outputs": [],
   "source": [
    "import importlib\n",
    "importlib.reload(evaluate)"
   ]
  },
  {
   "cell_type": "code",
   "execution_count": null,
   "id": "42d85c3d0c248e3e",
   "metadata": {
    "ExecuteTime": {
     "end_time": "2024-05-08T17:02:58.284464200Z",
     "start_time": "2024-05-08T17:02:58.182609700Z"
    },
    "collapsed": false
   },
   "outputs": [],
   "source": [
    "results = evaluate.eval_region_data_set(data_set, adjusted_clip_dists)"
   ]
  },
  {
   "cell_type": "code",
   "execution_count": null,
   "id": "80ae594926107e75",
   "metadata": {
    "ExecuteTime": {
     "end_time": "2024-05-08T17:03:00.721822700Z",
     "start_time": "2024-05-08T17:03:00.623608400Z"
    },
    "collapsed": false
   },
   "outputs": [],
   "source": [
    "evaluate.eval_region_data_set(data_set, clip_dists), evaluate.calculate_metrics(*evaluate.eval_region_data_set(data_set, clip_dists)), results, evaluate.calculate_metrics(*results)\n",
    "# adjusted_clip_dists (0.6471518987341772, 0.7602230483271375, 0.6991452991452991))"
   ]
  },
  {
   "cell_type": "markdown",
   "id": "51721e4969e9733b",
   "metadata": {
    "collapsed": false
   },
   "source": [
    "# Results:\n",
    "- text_lines.len > 5 penalty: `0.0000001`\n",
    "    - dataset 158 regions no dist: `((0.5822784810126582, 0.4742268041237113, 0.5227272727272727), array([  92,   66, 1003,  102]))`\n",
    "    - dataset 522 regions no dist: `((0.5957854406130269, 0.5371329879101899, 0.5649409627611262), array([ 311,  211, 3782,  268]))`\n",
    "    - dataset 158 regions dist(negative penalty: 0.0001, positive penalty: 10000.0): `((0.689873417721519, 0.5618556701030928, 0.6193181818181819), array([ 109,   49, 1020,   85]))`\n",
    "    - dataset 522 regions dist(len penalty: inf, negative penalty: 0.0001, positive penalty: 10000.0): `array([ 409,  223, 3619,  129]), (0.6471518987341772, 0.7602230483271375, 0.6991452991452991))`"
   ]
  },
  {
   "cell_type": "code",
   "execution_count": null,
   "id": "f31f454e10a47e1e",
   "metadata": {
    "collapsed": false
   },
   "outputs": [],
   "source": []
  }
 ],
 "metadata": {
  "kernelspec": {
   "display_name": "Python 3",
   "language": "python",
   "name": "python3"
  },
  "language_info": {
   "codemirror_mode": {
    "name": "ipython",
    "version": 2
   },
   "file_extension": ".py",
   "mimetype": "text/x-python",
   "name": "python",
   "nbconvert_exporter": "python",
   "pygments_lexer": "ipython2",
   "version": "2.7.6"
  }
 },
 "nbformat": 4,
 "nbformat_minor": 5
}
