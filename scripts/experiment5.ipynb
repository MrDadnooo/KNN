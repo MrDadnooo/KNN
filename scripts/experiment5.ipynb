{
 "cells": [
  {
   "cell_type": "markdown",
   "source": [
    "# Experiment - detekcia s použitím informácie o vzdialenosti"
   ],
   "metadata": {
    "collapsed": false
   },
   "id": "7ba379e9575a5e58"
  },
  {
   "cell_type": "code",
   "execution_count": 1,
   "id": "initial_id",
   "metadata": {
    "collapsed": true,
    "ExecuteTime": {
     "end_time": "2024-05-10T18:39:52.781240600Z",
     "start_time": "2024-05-10T18:39:26.653118900Z"
    }
   },
   "outputs": [
    {
     "name": "stdout",
     "output_type": "stream",
     "text": [
      "Initializing the data manager\n",
      "Data manager initialization finished\n"
     ]
    }
   ],
   "source": [
    "import dataset, model, evaluate\n",
    "from tqdm import tqdm"
   ]
  },
  {
   "cell_type": "code",
   "execution_count": 3,
   "outputs": [],
   "source": [
    "data_set = dataset.load_data_set('../res/cache/datasets/dataset_1000')"
   ],
   "metadata": {
    "collapsed": false,
    "ExecuteTime": {
     "end_time": "2024-05-10T18:41:52.755545Z",
     "start_time": "2024-05-10T18:41:47.660793300Z"
    }
   },
   "id": "694d89869ae37b77"
  },
  {
   "cell_type": "markdown",
   "source": [
    "## Setting: lines"
   ],
   "metadata": {
    "collapsed": false
   },
   "id": "62aea8139cabca27"
  },
  {
   "cell_type": "code",
   "execution_count": 9,
   "outputs": [
    {
     "name": "stderr",
     "output_type": "stream",
     "text": [
      "100%|█████████▉| 990/991 [11:39<00:00,  1.42it/s]  \n"
     ]
    }
   ],
   "source": [
    "clip_line_distances = []\n",
    "for data_point in tqdm(data_set):\n",
    "    clip_line_distances.append(model.compute_clip_lines_dst(data_point))"
   ],
   "metadata": {
    "collapsed": false,
    "ExecuteTime": {
     "end_time": "2024-05-10T18:14:46.204132500Z",
     "start_time": "2024-05-10T18:03:06.937705100Z"
    }
   },
   "id": "28a6cb3fd97ba9b2"
  },
  {
   "cell_type": "code",
   "execution_count": 11,
   "outputs": [],
   "source": [
    "results = evaluate.eval_threshold_data_set(data_set, clip_line_distances)"
   ],
   "metadata": {
    "collapsed": false,
    "ExecuteTime": {
     "end_time": "2024-05-10T18:19:06.557603200Z",
     "start_time": "2024-05-10T18:19:06.520207600Z"
    }
   },
   "id": "a845af098530aa84"
  },
  {
   "cell_type": "code",
   "execution_count": 29,
   "outputs": [
    {
     "name": "stdout",
     "output_type": "stream",
     "text": [
      "precision=0.301 recall=0.281 f1_score=0.291\n"
     ]
    }
   ],
   "source": [
    "precision, recall, f1_score = evaluate.calculate_metrics(*results)\n",
    "print(f\"{precision=:.3f} {recall=:.3f} {f1_score=:.3f}\")"
   ],
   "metadata": {
    "collapsed": false,
    "ExecuteTime": {
     "end_time": "2024-05-10T18:26:53.556043200Z",
     "start_time": "2024-05-10T18:26:53.549157100Z"
    }
   },
   "id": "fb4be68fb836e62b"
  },
  {
   "cell_type": "code",
   "execution_count": 25,
   "outputs": [],
   "source": [
    "adjusted_score = [evaluate.adjust_score_by_dist(clip_res, dist_far_penalty=0.00001, dist_near_threshold=10000) for clip_res in clip_line_distances]"
   ],
   "metadata": {
    "collapsed": false,
    "ExecuteTime": {
     "end_time": "2024-05-10T18:25:40.589626700Z",
     "start_time": "2024-05-10T18:25:38.668307900Z"
    }
   },
   "id": "de78a5e259a36af4"
  },
  {
   "cell_type": "code",
   "execution_count": 26,
   "outputs": [],
   "source": [
    "results2 = evaluate.eval_threshold_data_set(data_set, adjusted_score)"
   ],
   "metadata": {
    "collapsed": false,
    "ExecuteTime": {
     "end_time": "2024-05-10T18:25:41.132163100Z",
     "start_time": "2024-05-10T18:25:41.103800800Z"
    }
   },
   "id": "b565a7dc7786c6b3"
  },
  {
   "cell_type": "code",
   "execution_count": 30,
   "outputs": [
    {
     "name": "stdout",
     "output_type": "stream",
     "text": [
      "precision=0.386 recall=0.308 f1_score=0.342\n"
     ]
    }
   ],
   "source": [
    "precision, recall, f1_score = evaluate.calculate_metrics(*results2)\n",
    "print(f\"{precision=:.3f} {recall=:.3f} {f1_score=:.3f}\")"
   ],
   "metadata": {
    "collapsed": false,
    "ExecuteTime": {
     "end_time": "2024-05-10T18:26:55.619662Z",
     "start_time": "2024-05-10T18:26:55.613459200Z"
    }
   },
   "id": "e19cb8d544fe52b1"
  },
  {
   "cell_type": "markdown",
   "source": [
    "## Setting: regions"
   ],
   "metadata": {
    "collapsed": false
   },
   "id": "7ba3fba58228fedc"
  },
  {
   "cell_type": "code",
   "execution_count": 3,
   "outputs": [
    {
     "name": "stderr",
     "output_type": "stream",
     "text": [
      "  0%|          | 0/991 [00:00<?, ?it/s]C:\\Users\\H492635\\AppData\\Local\\Packages\\PythonSoftwareFoundation.Python.3.11_qbz5n2kfra8p0\\LocalCache\\local-packages\\Python311\\site-packages\\torch\\nn\\functional.py:5476: UserWarning: 1Torch was not compiled with flash attention. (Triggered internally at ..\\aten\\src\\ATen\\native\\transformers\\cuda\\sdp_utils.cpp:263.)\n",
      "  attn_output = scaled_dot_product_attention(q, k, v, attn_mask, dropout_p, is_causal)\n",
      "100%|█████████▉| 990/991 [01:43<00:00,  9.56it/s]\n"
     ]
    }
   ],
   "source": [
    "clip_region_distances = []\n",
    "for data_point in tqdm(data_set):\n",
    "    clip_region_distances.append(model.compute_clip_regions_dst(data_point))"
   ],
   "metadata": {
    "collapsed": false,
    "ExecuteTime": {
     "end_time": "2024-05-10T18:30:57.067786Z",
     "start_time": "2024-05-10T18:29:13.523669400Z"
    }
   },
   "id": "2b07ab79d019e9a9"
  },
  {
   "cell_type": "code",
   "execution_count": 4,
   "outputs": [],
   "source": [
    "reg_results = evaluate.eval_region_data_set(data_set, clip_region_distances)"
   ],
   "metadata": {
    "collapsed": false,
    "ExecuteTime": {
     "end_time": "2024-05-10T18:32:51.994216100Z",
     "start_time": "2024-05-10T18:32:51.971099200Z"
    }
   },
   "id": "c2fe9e52793fd3ba"
  },
  {
   "cell_type": "code",
   "execution_count": 5,
   "outputs": [
    {
     "name": "stdout",
     "output_type": "stream",
     "text": [
      "precision=0.502 recall=0.645 f1_score=0.564\n"
     ]
    }
   ],
   "source": [
    "precision, recall, f1_score = evaluate.calculate_metrics(*reg_results)\n",
    "print(f\"{precision=:.3f} {recall=:.3f} {f1_score=:.3f}\")"
   ],
   "metadata": {
    "collapsed": false,
    "ExecuteTime": {
     "end_time": "2024-05-10T18:33:00.747396300Z",
     "start_time": "2024-05-10T18:33:00.739105200Z"
    }
   },
   "id": "4a08afa96076eff0"
  },
  {
   "cell_type": "code",
   "execution_count": 14,
   "outputs": [],
   "source": [
    "adjusted_reg_score = [evaluate.adjust_score_by_dist(clip_res, len_max=1000, dist_far_penalty=0.00001, dist_near_threshold=10000) for clip_res in clip_region_distances]"
   ],
   "metadata": {
    "collapsed": false,
    "ExecuteTime": {
     "end_time": "2024-05-10T18:37:00.408606700Z",
     "start_time": "2024-05-10T18:37:00.234944200Z"
    }
   },
   "id": "571046e66e9c6e32"
  },
  {
   "cell_type": "code",
   "execution_count": 15,
   "outputs": [],
   "source": [
    "adjusted_reg_results = evaluate.eval_region_data_set(data_set, adjusted_reg_score)"
   ],
   "metadata": {
    "collapsed": false,
    "ExecuteTime": {
     "end_time": "2024-05-10T18:37:00.834137Z",
     "start_time": "2024-05-10T18:37:00.818744100Z"
    }
   },
   "id": "c63274f332cb7b43"
  },
  {
   "cell_type": "code",
   "execution_count": 16,
   "outputs": [
    {
     "name": "stdout",
     "output_type": "stream",
     "text": [
      "precision=0.576 recall=0.689 f1_score=0.628\n"
     ]
    }
   ],
   "source": [
    "precision, recall, f1_score = evaluate.calculate_metrics(*adjusted_reg_results)\n",
    "print(f\"{precision=:.3f} {recall=:.3f} {f1_score=:.3f}\")"
   ],
   "metadata": {
    "collapsed": false,
    "ExecuteTime": {
     "end_time": "2024-05-10T18:37:01.532899800Z",
     "start_time": "2024-05-10T18:37:01.529182700Z"
    }
   },
   "id": "9467e8fecb79f9d5"
  },
  {
   "cell_type": "markdown",
   "source": [
    "## Threshold to penalize regions with large amount of text lines"
   ],
   "metadata": {
    "collapsed": false
   },
   "id": "7f86379206e2b9e8"
  },
  {
   "cell_type": "code",
   "execution_count": 17,
   "outputs": [],
   "source": [
    "adjusted_reg_score = [evaluate.adjust_score_by_dist(clip_res, len_max=5, len_penalty=0.00001, dist_far_penalty=0.00001, dist_near_threshold=10000) for clip_res in clip_region_distances]"
   ],
   "metadata": {
    "collapsed": false,
    "ExecuteTime": {
     "end_time": "2024-05-10T18:38:02.007501600Z",
     "start_time": "2024-05-10T18:38:01.835279200Z"
    }
   },
   "id": "e3756d1cd3ac1fad"
  },
  {
   "cell_type": "code",
   "execution_count": 18,
   "outputs": [],
   "source": [
    "adjusted_reg_results = evaluate.eval_region_data_set(data_set, adjusted_reg_score)"
   ],
   "metadata": {
    "collapsed": false,
    "ExecuteTime": {
     "end_time": "2024-05-10T18:38:06.022863900Z",
     "start_time": "2024-05-10T18:38:06.005772500Z"
    }
   },
   "id": "e1e98a7fcb5244a5"
  },
  {
   "cell_type": "code",
   "execution_count": 19,
   "outputs": [
    {
     "name": "stdout",
     "output_type": "stream",
     "text": [
      "precision=0.695 recall=0.798 f1_score=0.743\n"
     ]
    }
   ],
   "source": [
    "precision, recall, f1_score = evaluate.calculate_metrics(*adjusted_reg_results)\n",
    "print(f\"{precision=:.3f} {recall=:.3f} {f1_score=:.3f}\")"
   ],
   "metadata": {
    "collapsed": false,
    "ExecuteTime": {
     "end_time": "2024-05-10T18:38:09.082403600Z",
     "start_time": "2024-05-10T18:38:09.074792300Z"
    }
   },
   "id": "9afd64a2ec0e738f"
  },
  {
   "cell_type": "markdown",
   "source": [
    "## Setting: sentences"
   ],
   "metadata": {
    "collapsed": false
   },
   "id": "91e871663e083b35"
  },
  {
   "cell_type": "code",
   "execution_count": null,
   "outputs": [],
   "source": [],
   "metadata": {
    "collapsed": false
   },
   "id": "178566541b646e20"
  }
 ],
 "metadata": {
  "kernelspec": {
   "display_name": "Python 3",
   "language": "python",
   "name": "python3"
  },
  "language_info": {
   "codemirror_mode": {
    "name": "ipython",
    "version": 2
   },
   "file_extension": ".py",
   "mimetype": "text/x-python",
   "name": "python",
   "nbconvert_exporter": "python",
   "pygments_lexer": "ipython2",
   "version": "2.7.6"
  }
 },
 "nbformat": 4,
 "nbformat_minor": 5
}
